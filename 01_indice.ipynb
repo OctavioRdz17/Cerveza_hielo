{
 "cells": [
  {
   "cell_type": "markdown",
   "metadata": {},
   "source": [
    "# Índice del Notebook\n",
    "\n",
    "## 1. [Introducción](#Introduccion)\n",
    "   - Objetivo del proyecto\n",
    "   - Descripción de los datos\n",
    "\n",
    "## 2. [Carga de Datos](#carga-de-datos)\n",
    "   - Importación de librerías necesarias\n",
    "   - Carga de datos desde archivos (CSV, Excel, bases de datos, etc.)\n",
    "   - Visión general de los datos (primeras filas, dimensiones, etc.)\n",
    "\n",
    "## 3. [Exploración Inicial de los Datos (EDA)](#exploración-inicial-de-los-datos-eda)\n",
    "   - Resumen estadístico de las variables\n",
    "   - Distribución de variables numéricas y categóricas\n",
    "   - Detección y manejo de valores faltantes\n",
    "   - Identificación de outliers\n",
    "   - Visualización inicial (histogramas, gráficos de barras, box plots)\n",
    "\n",
    "## 4. [Limpieza de Datos](#limpieza-de-datos)\n",
    "   - Tratamiento de valores faltantes\n",
    "   - Eliminación o corrección de outliers\n",
    "   - Conversión de tipos de datos (si es necesario)\n",
    "   - Normalización/Estandarización de variables (si es aplicable)\n",
    "\n",
    "## 5. [Transformación de Datos (ETL)](#transformación-de-datos-etl)\n",
    "   - Creación de nuevas variables (si es necesario)\n",
    "   - Agrupación y agregación de datos\n",
    "   - Integración de datos de diferentes fuentes (si es aplicable)\n",
    "   - Filtrado de datos irrelevantes\n",
    "\n",
    "## 6. [Análisis Avanzado](#análisis-avanzado)\n",
    "   - Análisis de correlación entre variables\n",
    "   - Segmentación de clientes (si aplica)\n",
    "   - Análisis de series temporales (si aplica)\n",
    "   - Visualización avanzada (mapas de calor, gráficos de dispersión, etc.)\n",
    "\n",
    "## 7. [Modelado Predictivo (si aplica)](#modelado-predictivo-si-aplica)\n",
    "   - Definición del problema de modelado\n",
    "   - División de datos en conjuntos de entrenamiento y prueba\n",
    "   - Selección y entrenamiento de modelos\n",
    "   - Evaluación de modelos\n",
    "\n",
    "## 8. [Conclusiones](#conclusiones)\n",
    "   - Resumen de hallazgos importantes\n",
    "   - Recomendaciones basadas en el análisis\n",
    "   - Pasos siguientes y posibles mejoras\n",
    "\n",
    "## 9. [Anexos](#anexos)\n",
    "   - Cualquier código adicional\n",
    "   - Documentación adicional\n",
    "   - Referencias"
   ]
  },
  {
   "cell_type": "markdown",
   "metadata": {},
   "source": [
    "## 1. Introducción"
   ]
  },
  {
   "cell_type": "markdown",
   "metadata": {},
   "source": [
    "### Objetivo del proyecto\n",
    "\n",
    "El objetivo de este proyecto es realizar un análisis exploratorio de un conjunto de datos para identificar patrones, tendencias y relaciones entre las variables. A partir de este análisis, se busca obtener información relevante que permita tomar decisiones informadas y plantear hipótesis para futuros análisis."
   ]
  },
  {
   "cell_type": "markdown",
   "metadata": {},
   "source": [
    "### Descripción de los datos\n",
    "\n",
    "El conjunto de datos contiene información sobre las transacciones de ventas en las tiendas Seven Eleven en Mexico. Cada fila representa una transacción individual y contiene información sobre el numero de ticket, la fecha, tienda, producto, cantidad, precio y otros detalles relevantes. El objetivo es analizar estos datos para identificar patrones de compra, tendencias estacionales, productos más populares, entre otros aspectos relevantes para el negocio."
   ]
  },
  {
   "cell_type": "markdown",
   "metadata": {},
   "source": [
    "## 2. Carga de Datos\n",
    "\n",
    "En esta sección, se realizará la carga de los datos desde un archivo CSV y se mostrará una visión general de los datos."
   ]
  },
  {
   "cell_type": "markdown",
   "metadata": {},
   "source": [
    "### Importación de librerías necesarias y crear conexión con las bases de datos"
   ]
  },
  {
   "cell_type": "code",
   "execution_count": null,
   "metadata": {},
   "outputs": [],
   "source": [
    "# Import python packages\n",
    "import streamlit as st\n",
    "import pandas as pd\n",
    "\n",
    "# We can also use Snowpark for our analyses!\n",
    "from snowflake.snowpark.context import get_active_session\n",
    "session = get_active_session()"
   ]
  },
  {
   "cell_type": "markdown",
   "metadata": {},
   "source": [
    "### Carga de datos desde archivos (La base de datos)"
   ]
  },
  {
   "cell_type": "code",
   "execution_count": null,
   "metadata": {
    "vscode": {
     "languageId": "sql"
    }
   },
   "outputs": [],
   "source": [
    "SELECT T.*,A.ARTICULO_DESC,A.CATEGORIA_ID,A.CATEGORIA_DESC,A.SUBCATEGORIA_ID,A.SUBCATEGORIA_DESC, A.Fabricante_id,f.fabricante_desc,\n",
    "a.proveedor_id,p.proveedor_desc\n",
    "FROM DB_LND_RODS_P.SCH_7E.RODS_DAT_TRANSACCIONES T\n",
    "JOIN DB_LND_RODS_P.SCH_7E.CAT_ARTICULO A ON T.ID_ARTICULO = A.ARTICULO_ID\n",
    "JOIN DB_LND_RODS_P.SCH_7E.CAT_FABRICANTE F ON A.FABRICANTE_ID = F.FABRICANTE_ID\n",
    "JOIN DB_LND_RODS_P.SCH_7E.CAT_PROVEEDOR P ON A.PROVEEDOR_ID = P.PROVEEDOR_ID\n",
    "WHERE ID_FECHA >= 20230000"
   ]
  },
  {
   "cell_type": "markdown",
   "metadata": {},
   "source": [
    "\n",
    "### Visión general de los datos\n",
    "\n",
    "A continuación, se mostrará una visión general de los datos, incluyendo las primeras filas, dimensiones del conjunto de datos y tipos de variables.\n"
   ]
  },
  {
   "cell_type": "code",
   "execution_count": null,
   "metadata": {},
   "outputs": [],
   "source": [
    "# Cargardo los dato de la tabla de snowflake\n",
    "df = dataframe_inicial.to_pandas()\n",
    "df.head()"
   ]
  },
  {
   "cell_type": "code",
   "execution_count": null,
   "metadata": {},
   "outputs": [],
   "source": [
    "# Filtrar solo los elementos con CATEGORIA_ID = 7 y 14\n",
    "df = df[(df['CATEGORIA_ID'] == 7) | (df['CATEGORIA_ID'] == 18)]\n",
    "df.head()"
   ]
  }
 ],
 "metadata": {
  "language_info": {
   "name": "python"
  }
 },
 "nbformat": 4,
 "nbformat_minor": 2
}
